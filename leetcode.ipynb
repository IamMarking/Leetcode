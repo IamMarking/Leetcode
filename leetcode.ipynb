{
  "nbformat": 4,
  "nbformat_minor": 0,
  "metadata": {
    "colab": {
      "name": "model.ipynb",
      "version": "0.3.2",
      "provenance": [],
      "collapsed_sections": [],
      "toc_visible": true,
      "include_colab_link": true
    },
    "language_info": {
      "codemirror_mode": {
        "name": "ipython",
        "version": 3
      },
      "file_extension": ".py",
      "mimetype": "text/x-python",
      "name": "python",
      "nbconvert_exporter": "python",
      "pygments_lexer": "ipython3",
      "version": "3.6.5"
    },
    "kernelspec": {
      "display_name": "Python 3",
      "language": "python",
      "name": "python3"
    }
  },
  "cells": [
    {
      "cell_type": "markdown",
      "metadata": {
        "id": "view-in-github",
        "colab_type": "text"
      },
      "source": [
        "<a href=\"https://colab.research.google.com/github/IamMarking/Leetcode/blob/master/leetcode.ipynb\" target=\"_parent\"><img src=\"https://colab.research.google.com/assets/colab-badge.svg\" alt=\"Open In Colab\"/></a>"
      ]
    },
    {
      "metadata": {
        "id": "7x5Meo1Cy3EX",
        "colab_type": "text"
      },
      "cell_type": "markdown",
      "source": [
        "#### 二分查找法"
      ]
    },
    {
      "metadata": {
        "id": "bWk-Ivlby3EY",
        "colab_type": "text"
      },
      "cell_type": "markdown",
      "source": [
        "二分查找法是对一组 **有序** 的数字进行查找，传递相应的数据，进行比较查找与原数据相同的数据，查找到了返回对应的数组下标，没有找到返回 -1；"
      ]
    },
    {
      "metadata": {
        "id": "OB4ijoKFy3EZ",
        "colab_type": "code",
        "colab": {}
      },
      "cell_type": "code",
      "source": [
        "%config ZMQInteractiveShell.ast_node_interactivity=\"all\""
      ],
      "execution_count": 0,
      "outputs": []
    },
    {
      "metadata": {
        "id": "-GCMvVlgy3Eb",
        "colab_type": "text"
      },
      "cell_type": "markdown",
      "source": [
        "基于下标来做，返回下标的位置\n",
        "\n",
        "* 思想：先找出中间值，mid = (first + last)//2"
      ]
    },
    {
      "metadata": {
        "id": "-xfkJkiNy3Eb",
        "colab_type": "code",
        "colab": {},
        "outputId": "5d3f9615-e10d-4fee-b25f-1586a3b7f7e3"
      },
      "cell_type": "code",
      "source": [
        "# 实现一个二分查找\n",
        "# 输入:一个顺序 list\n",
        "# 输出: 待查找的元素的位置，这个位置是从 0 开始计算的\n",
        "\n",
        "def binarySearch(alist, item):\n",
        "    \n",
        "    first = 0  # 起始定义为 0\n",
        "    last = len(alist) - 1  # 最后定义为 len - 1\n",
        "\n",
        "    while first <= last:  # 起始永远小于最后值\n",
        "        mid = (first + last)//2\n",
        "        if alist[mid] > item:\n",
        "            last = mid - 1\n",
        "        elif alist[mid] < item:\n",
        "            first = mid + 1\n",
        "        else:\n",
        "            return mid  # 是否加 1，看返回的是从 1 开始计数，还是从 0 开始计数\n",
        "    return -1\n",
        "\n",
        "test = [0, 1, 2, 8, 13, 17, 19, 32, 42]  # len = 9\n",
        "\n",
        "binarySearch(test, 17)"
      ],
      "execution_count": 0,
      "outputs": [
        {
          "output_type": "execute_result",
          "data": {
            "text/plain": [
              "5"
            ]
          },
          "metadata": {
            "tags": []
          },
          "execution_count": 1
        }
      ]
    },
    {
      "metadata": {
        "id": "USWG8a2Ly3Ee",
        "colab_type": "text"
      },
      "cell_type": "markdown",
      "source": [
        "#### 冒泡排序法"
      ]
    },
    {
      "metadata": {
        "id": "Ak3wU9cdy3Ee",
        "colab_type": "code",
        "colab": {}
      },
      "cell_type": "code",
      "source": [
        "# Python 实现冒泡排序\n",
        "\n",
        "def bubbleSort(alist):\n",
        "    for passnum in range(len(alist)-1, 0, -1):\n",
        "        for i in range(passnum):\n",
        "            if alist[i] > alist[i+1]:\n",
        "                alist[i], alist[i+1] = alist[i+1], alist[i]\n",
        "    return alist\n",
        "\n",
        "alist = [54,26,93,17,77,31,44,55,20]\n",
        "print(bubbleSort(alist))\n",
        "\n",
        "\n",
        "# 改进的冒泡排序, 加入一个校验, 如果某次循环发现没有发生数值交换, 直接跳出 while 循环\n",
        "\n",
        "def modiBubbleSort(alist):\n",
        "    \n",
        "    exchange = True\n",
        "    passnum = len(alist) - 1\n",
        "    \n",
        "    while passnum >= 1 and exchange:\n",
        "        exchange = False\n",
        "        for i in range(passnum):\n",
        "            if alist[i] > alist[i+1]:\n",
        "                alist[i], alist[i+1] = alist[i+1], alist[i]\n",
        "                exchange = True\n",
        "        passnum -= 1\n",
        "        \n",
        "    return alist\n",
        "\n",
        "print(bubbleSort(alist))"
      ],
      "execution_count": 0,
      "outputs": []
    },
    {
      "metadata": {
        "id": "fI-c8cA2y3Eg",
        "colab_type": "text"
      },
      "cell_type": "markdown",
      "source": [
        "#### 快排"
      ]
    },
    {
      "metadata": {
        "id": "7t8LBZACy3Eh",
        "colab_type": "text"
      },
      "cell_type": "markdown",
      "source": [
        "多看几遍！！！核心思想是依次为每个 X 找到其对应的位置，然后递归分区"
      ]
    },
    {
      "metadata": {
        "id": "NiPGa_oCy3Eh",
        "colab_type": "code",
        "colab": {}
      },
      "cell_type": "code",
      "source": [
        "alist = [72,6,57,88,60,42,83,73,48,85]"
      ],
      "execution_count": 0,
      "outputs": []
    },
    {
      "metadata": {
        "id": "NAwnmhBEy3Ej",
        "colab_type": "code",
        "colab": {}
      },
      "cell_type": "code",
      "source": [
        "# coding: utf-8\n",
        "\n",
        "def quickSort(alist):  # 快速排序\n",
        "    quickSortHelper(alist, 0, len(alist)-1)"
      ],
      "execution_count": 0,
      "outputs": []
    },
    {
      "metadata": {
        "id": "goCBr38Yy3El",
        "colab_type": "code",
        "colab": {}
      },
      "cell_type": "code",
      "source": [
        "def quickSortHelper(alist, first, last):  # 0 10\n",
        "    if first < last:\n",
        "        splitPoint = partition(alist, first, last)  # 递归调用的过程\n",
        "\n",
        "        quickSortHelper(alist, first, splitPoint-1)\n",
        "        quickSortHelper(alist, splitPoint+1, last)\n"
      ],
      "execution_count": 0,
      "outputs": []
    },
    {
      "metadata": {
        "id": "Kj4DPLMGy3Eo",
        "colab_type": "code",
        "colab": {}
      },
      "cell_type": "code",
      "source": [
        "def partition(alist, first, last):\n",
        "    \n",
        "    pivotvlue = alist[first]  # 基准数 a[0] 72\n",
        "    \n",
        "    leftmark = first + 1  # i 1\n",
        "    rightmark = last  # j 9\n",
        "    done = False\n",
        "\n",
        "    while not done:\n",
        "        while leftmark <= rightmark and alist[leftmark] <= pivotvlue:  # bugfix: 先比较 index, 不然数组会越界\n",
        "            leftmark += 1\n",
        "        while rightmark >= leftmark and alist[rightmark] >= pivotvlue:\n",
        "            rightmark -= 1\n",
        "\n",
        "        if leftmark > rightmark:\n",
        "            done = True\n",
        "        else:\n",
        "            alist[leftmark], alist[rightmark] = alist[rightmark], alist[leftmark]\n",
        "    alist[rightmark], alist[first] = alist[first], alist[rightmark]\n",
        "    \n",
        "    return rightmark"
      ],
      "execution_count": 0,
      "outputs": []
    },
    {
      "metadata": {
        "id": "43b8ekCmy3Eq",
        "colab_type": "code",
        "colab": {}
      },
      "cell_type": "code",
      "source": [
        "quickSort(alist)"
      ],
      "execution_count": 0,
      "outputs": []
    },
    {
      "metadata": {
        "id": "M_cVcoQEy3Es",
        "colab_type": "code",
        "colab": {},
        "outputId": "2bb56a6d-ebfe-4b9a-9e20-17ea425a2615"
      },
      "cell_type": "code",
      "source": [
        "alist"
      ],
      "execution_count": 0,
      "outputs": [
        {
          "output_type": "execute_result",
          "data": {
            "text/plain": [
              "[6, 42, 48, 57, 60, 72, 73, 83, 85, 88]"
            ]
          },
          "metadata": {
            "tags": []
          },
          "execution_count": 4
        }
      ]
    },
    {
      "metadata": {
        "id": "20qj88TRy3Ew",
        "colab_type": "text"
      },
      "cell_type": "markdown",
      "source": [
        "#### 回文数"
      ]
    },
    {
      "metadata": {
        "id": "PzPPeYKiy3Ew",
        "colab_type": "code",
        "colab": {},
        "outputId": "6e90addb-8fa7-4093-adc2-3c42b7d2ae7e"
      },
      "cell_type": "code",
      "source": [
        "class Solution(object):\n",
        "    def isPalindrome(self, x):\n",
        "        \"\"\"\n",
        "        :type x: int\n",
        "        :rtype: bool\n",
        "        \"\"\"\n",
        "        if x < 0:\n",
        "            return False\n",
        "        else:\n",
        "            y = str(x)[::-1]  # 回文数的关键\n",
        "            if y == str(x):\n",
        "                return True\n",
        "            else: \n",
        "                return False\n",
        "\n",
        "test = Solution()\n",
        "test.isPalindrome(123321)"
      ],
      "execution_count": 0,
      "outputs": [
        {
          "output_type": "execute_result",
          "data": {
            "text/plain": [
              "True"
            ]
          },
          "metadata": {
            "tags": []
          },
          "execution_count": 21
        }
      ]
    },
    {
      "metadata": {
        "id": "QKAhvsYJy3Ey",
        "colab_type": "text"
      },
      "cell_type": "markdown",
      "source": [
        "#### 链表"
      ]
    },
    {
      "metadata": {
        "id": "G3Wbe05Ty3Ez",
        "colab_type": "code",
        "colab": {},
        "outputId": "5935365e-cafa-44e4-e23a-8d88aaa243e2"
      },
      "cell_type": "code",
      "source": [
        "# 定义一个链表类\n",
        "\n",
        "class Node:\n",
        "    def __init__(self, initdata):  # 初始化操作\n",
        "        self.data = initdata\n",
        "        self.next = None\n",
        "\n",
        "    def getData(self):  # 得到当前数据\n",
        "        return self.data\n",
        "\n",
        "    def getNext(self):  # 指针后移\n",
        "        return self.next\n",
        "\n",
        "    def setData(self, newdata):  # 设置当前数据\n",
        "        self.next = newdata\n",
        "\n",
        "    def setNext(self, nextNode):\n",
        "        self.next = nextNode\n",
        "\n",
        "\n",
        "temp = Node(93)\n",
        "temp.setData(10)\n",
        "print(temp.getNext())\n",
        "temp.getData()"
      ],
      "execution_count": 0,
      "outputs": [
        {
          "output_type": "stream",
          "text": [
            "10\n"
          ],
          "name": "stdout"
        },
        {
          "output_type": "execute_result",
          "data": {
            "text/plain": [
              "93"
            ]
          },
          "metadata": {
            "tags": []
          },
          "execution_count": 2
        }
      ]
    },
    {
      "metadata": {
        "id": "uz6Gh_aiy3E1",
        "colab_type": "code",
        "colab": {}
      },
      "cell_type": "code",
      "source": [
        "%config ZMQInteractiveShell.ast_node_interactivity=\"all\""
      ],
      "execution_count": 0,
      "outputs": []
    },
    {
      "metadata": {
        "id": "XgV4mgrYy3E3",
        "colab_type": "code",
        "colab": {},
        "outputId": "d7708208-91e8-4916-fe28-ceaa2a4a7d92"
      },
      "cell_type": "code",
      "source": [
        "# 定义一个无序链表\n",
        "\n",
        "class UnorderedList:\n",
        "    \n",
        "    def __init__(self):\n",
        "        self.head = None\n",
        "\n",
        "    def isEmpty(self):\n",
        "        return self.head == None\n",
        "\n",
        "    def add(self, item):  # 添加元素\n",
        "        temp = Node(item)\n",
        "        temp.setNext(self.head)\n",
        "        self.head = temp\n",
        "\n",
        "    def size(self):  # 计算链表大小\n",
        "        current = self.head\n",
        "        count = 0\n",
        "        while current != None:\n",
        "            count += 1\n",
        "            current = current.getNext()\n",
        "        return count\n",
        "\n",
        "    def search(self, item):  # 查找\n",
        "        current = self.head\n",
        "        found = False\n",
        "        while current != None and not found:\n",
        "            if current.getData() == item:\n",
        "                found = True\n",
        "            else:\n",
        "                current = current.getNext()\n",
        "        return found\n",
        "\n",
        "    def remove(self, item):  # 移除\n",
        "        current = self.head\n",
        "        previous = None\n",
        "        found = False\n",
        "        while not found:\n",
        "            if current.getData() == item:\n",
        "                found = True\n",
        "            else:\n",
        "                previous = current\n",
        "                current = current.getNext()\n",
        "\n",
        "        if previous == None:\n",
        "            self.head = current.getNext()\n",
        "        else:\n",
        "            previous.setNext(current.getNext())\n",
        "\n",
        "myList = UnorderedList()\n",
        "myList.add(31)\n",
        "myList.add(77)\n",
        "myList.add(17)\n",
        "myList.add(93)\n",
        "myList.add(26)\n",
        "myList.add(54)\n",
        "\n",
        "print(myList.search(17))\n",
        "myList.remove(54)\n",
        "print(myList.search(54))"
      ],
      "execution_count": 0,
      "outputs": [
        {
          "output_type": "stream",
          "text": [
            "True\n",
            "False\n"
          ],
          "name": "stdout"
        }
      ]
    },
    {
      "metadata": {
        "id": "0-lDMt-gy3E6",
        "colab_type": "code",
        "colab": {},
        "outputId": "d0650bd3-7be9-42d5-928c-2e88f8a58824"
      },
      "cell_type": "code",
      "source": [
        "myList"
      ],
      "execution_count": 0,
      "outputs": [
        {
          "output_type": "execute_result",
          "data": {
            "text/plain": [
              "<__main__.UnorderedList at 0x10fe4c8d0>"
            ]
          },
          "metadata": {
            "tags": []
          },
          "execution_count": 13
        }
      ]
    },
    {
      "metadata": {
        "id": "8B_fjtB_y3E_",
        "colab_type": "text"
      },
      "cell_type": "markdown",
      "source": [
        "#### 斐波那契"
      ]
    },
    {
      "metadata": {
        "id": "aLZrmQmVy3E_",
        "colab_type": "code",
        "colab": {},
        "outputId": "64ea3c2f-394a-4d5d-a2ae-23e783c21e4e"
      },
      "cell_type": "code",
      "source": [
        "'''\n",
        "大家都知道斐波那契数列，现在要求输入一个整数 n，请你输出斐波那契数列的第 n 项\n",
        "n <= 39\n",
        "'''\n",
        "\n",
        "# -*- coding:utf-8 -*-\n",
        "class Solution:  \n",
        "    \n",
        "    def Fibonacci(self, n):\n",
        "        tempArray = [0, 1]  # 列表\n",
        "        if n >= 2:\n",
        "            for i in range(2, n+1):\n",
        "                tempArray[i%2] = tempArray[0] + tempArray[1]  # 似乎没有调用函数\n",
        "        return tempArray[n%2]\n",
        "    \n",
        "    # 青蛙跳台阶, 每次可以跳 1 级或 2 级\n",
        "    def jumpFloor(self, number):\n",
        "        # write code here\n",
        "        tempArray = [1, 2]\n",
        "        if number >= 3:\n",
        "            for i in range(3, number + 1):\n",
        "                tempArray[(i + 1) % 2] = tempArray[0] + tempArray[1]\n",
        "        return tempArray[(number + 1) % 2]\n",
        "\n",
        "    def jumpFloorII(self, number):\n",
        "        ans = 1\n",
        "        if number >= 2:\n",
        "            for i in range(number-1):\n",
        "                ans = ans * 2\n",
        "        return ans\n",
        "\n",
        "test = Solution()\n",
        "\n",
        "print(test.Fibonacci(5))\n",
        "print(test.jumpFloor(3))\n",
        "print(test.jumpFloorII(2))"
      ],
      "execution_count": 0,
      "outputs": [
        {
          "output_type": "execute_result",
          "data": {
            "text/plain": [
              "'\\n大家都知道斐波那契数列，现在要求输入一个整数 n，请你输出斐波那契数列的第 n 项\\nn <= 39\\n'"
            ]
          },
          "metadata": {
            "tags": []
          },
          "execution_count": 15
        },
        {
          "output_type": "stream",
          "text": [
            "5\n",
            "3\n",
            "2\n"
          ],
          "name": "stdout"
        }
      ]
    },
    {
      "metadata": {
        "id": "3sKwUu5Ky3FB",
        "colab_type": "code",
        "colab": {},
        "outputId": "a1f83727-fe7a-42c7-da32-48fdb1fd74c6"
      },
      "cell_type": "code",
      "source": [
        "def f(n):\n",
        "    if n == 0:\n",
        "        return 0\n",
        "    if n == 1:\n",
        "        return 1\n",
        "    if n > 1:\n",
        "        return f(n-1)+f(n-2)  # 递归调用函数\n",
        "f(6)"
      ],
      "execution_count": 0,
      "outputs": [
        {
          "output_type": "execute_result",
          "data": {
            "text/plain": [
              "8"
            ]
          },
          "metadata": {
            "tags": []
          },
          "execution_count": 18
        }
      ]
    },
    {
      "metadata": {
        "id": "mw-IEnh7y3FD",
        "colab_type": "text"
      },
      "cell_type": "markdown",
      "source": [
        "#### 递归"
      ]
    },
    {
      "metadata": {
        "id": "k3Iaw_rCy3FE",
        "colab_type": "code",
        "colab": {},
        "outputId": "4a469f26-3c0e-4d99-82b7-1cb9925f987b"
      },
      "cell_type": "code",
      "source": [
        "# 递归求一个列表的和\n",
        "\n",
        "def listSum(numlist):\n",
        "    if len(numlist) == 1:\n",
        "        return numlist[0]\n",
        "    else:\n",
        "        return numlist[0] + listSum(numlist[1:])\n",
        "\n",
        "print(listSum([1, 2, 3, 4, 5, 6, 7]))"
      ],
      "execution_count": 0,
      "outputs": [
        {
          "output_type": "stream",
          "text": [
            "28\n"
          ],
          "name": "stdout"
        }
      ]
    },
    {
      "metadata": {
        "id": "h_WPZ9PFy3FI",
        "colab_type": "code",
        "colab": {},
        "outputId": "3e72d220-0453-4ba9-81ee-2c368d3f8829"
      },
      "cell_type": "code",
      "source": [
        "# 递归求阶乘\n",
        "def listFactorial(num):\n",
        "    if num <= 1:\n",
        "        return 1\n",
        "    else:\n",
        "        return num * listFactorial(num-1)\n",
        "\n",
        "print(listFactorial(4))"
      ],
      "execution_count": 0,
      "outputs": [
        {
          "output_type": "stream",
          "text": [
            "24\n"
          ],
          "name": "stdout"
        }
      ]
    },
    {
      "metadata": {
        "id": "PjqJTpEty3FL",
        "colab_type": "code",
        "colab": {},
        "outputId": "e49e3f46-8f5b-4d88-bc94-75a8c5cf6249"
      },
      "cell_type": "code",
      "source": [
        "# 递归实现进制转换:\n",
        "def toStr(n,base):\n",
        "   convertString = \"0123456789ABCDEF\"\n",
        "   if n < base:\n",
        "      return convertString[n]\n",
        "   else:\n",
        "      return toStr(n//base, base) + convertString[n%base]\n",
        "\n",
        "print(toStr(1453, 16))"
      ],
      "execution_count": 0,
      "outputs": [
        {
          "output_type": "stream",
          "text": [
            "5AD\n"
          ],
          "name": "stdout"
        }
      ]
    },
    {
      "metadata": {
        "id": "MJfAoLb1y3FN",
        "colab_type": "code",
        "colab": {},
        "outputId": "9ad0e750-4efe-402e-9d37-9ff97c095f5f"
      },
      "cell_type": "code",
      "source": [
        "# 递归实现 Hanoi 塔\n",
        "\n",
        "def Hanoi(fromPole, withPole, toPole, diskNum):\n",
        "    if diskNum <= 1:\n",
        "        print(\"moving disk from %s to %s\" % (fromPole, toPole))\n",
        "    else:\n",
        "        Hanoi(fromPole, toPole, withPole, diskNum-1)\n",
        "        print(\"moving disk from %s to %s\" % (fromPole, toPole))\n",
        "        Hanoi(withPole, fromPole, toPole, diskNum-1)\n",
        "\n",
        "Hanoi('A', 'B', 'C', 3)"
      ],
      "execution_count": 0,
      "outputs": [
        {
          "output_type": "stream",
          "text": [
            "moving disk from A to C\n",
            "moving disk from A to B\n",
            "moving disk from C to B\n",
            "moving disk from A to C\n",
            "moving disk from B to A\n",
            "moving disk from B to C\n",
            "moving disk from A to C\n"
          ],
          "name": "stdout"
        }
      ]
    },
    {
      "metadata": {
        "id": "5ZkpdybNy3FO",
        "colab_type": "text"
      },
      "cell_type": "markdown",
      "source": [
        "#### 两数之和"
      ]
    },
    {
      "metadata": {
        "id": "O2P6dUINzAH9",
        "colab_type": "code",
        "colab": {}
      },
      "cell_type": "code",
      "source": [
        "class Solution:\n",
        "    def twoSum(self, nums, target):\n",
        "        \"\"\"\n",
        "        :type nums: List[int]\n",
        "        :type target: int\n",
        "        :rtype: List[int]\n",
        "        \"\"\"\n",
        "        hashmap = {}\n",
        "        for index, num in enumerate(nums):\n",
        "            another_num = target - num\n",
        "            if another_num in hashmap:\n",
        "                return [hashmap[another_num], index]\n",
        "            hashmap[num] = index"
      ],
      "execution_count": 0,
      "outputs": []
    },
    {
      "metadata": {
        "id": "g6dbqhR8zFrh",
        "colab_type": "code",
        "colab": {
          "base_uri": "https://localhost:8080/",
          "height": 163
        },
        "outputId": "51631315-5133-4ac6-a4a2-5d1746900f9d"
      },
      "cell_type": "code",
      "source": [
        "def twoSum(nums, target):\n",
        "  hashmap = {}\n",
        "  for i,num in enumerate(nums):\n",
        "    another_num = target - num\n",
        "    print(another_num)\n",
        "    if another_num in hashmap:\n",
        "      return [hashmap[another_num], i]\n",
        "      print([hashmap[another_num], i])\n",
        "    hashmap[num] = i\n",
        "    print(hashmap)\n",
        "    \n",
        "twoSum([1,2,3,4],6)  # 遍历到 4 的时候才可以"
      ],
      "execution_count": 3,
      "outputs": [
        {
          "output_type": "stream",
          "text": [
            "5\n",
            "{1: 0}\n",
            "4\n",
            "{1: 0, 2: 1}\n",
            "3\n",
            "{1: 0, 2: 1, 3: 2}\n",
            "2\n"
          ],
          "name": "stdout"
        },
        {
          "output_type": "execute_result",
          "data": {
            "text/plain": [
              "[1, 3]"
            ]
          },
          "metadata": {
            "tags": []
          },
          "execution_count": 3
        }
      ]
    },
    {
      "metadata": {
        "id": "PkOUgWZI2D55",
        "colab_type": "text"
      },
      "cell_type": "markdown",
      "source": [
        "#### 两数相加"
      ]
    },
    {
      "metadata": {
        "id": "Ilpw5Ati2DJ9",
        "colab_type": "code",
        "colab": {
          "base_uri": "https://localhost:8080/",
          "height": 337
        },
        "outputId": "da57bf02-1b14-4964-d985-e8b8857932ab"
      },
      "cell_type": "code",
      "source": [
        "# Definition for singly-linked list.\n",
        "class ListNode:\n",
        "    def __init__(self, x):\n",
        "        self.val = x\n",
        "        self.next = None\n",
        "\n",
        "class Solution:\n",
        "    def addTwoNumbers(self, l1, l2):\n",
        "        \"\"\"\n",
        "        :type l1: ListNode\n",
        "        :type l2: ListNode\n",
        "        :rtype: ListNode\n",
        "        \"\"\"\n",
        "        re = ListNode(0)\n",
        "        r=re\n",
        "        carry=0\n",
        "        while(l1 or l2):\n",
        "            x= l1.val if l1 else 0\n",
        "            y= l2.val if l2 else 0\n",
        "            s=carry+x+y\n",
        "            carry=s//10\n",
        "            r.next=ListNode(s%10)\n",
        "            r=r.next\n",
        "            if(l1!=None):l1=l1.next\n",
        "            if(l2!=None):l2=l2.next\n",
        "        if(carry>0):\n",
        "            r.next=ListNode(1)\n",
        "        return re.next\n",
        "      \n",
        "s = Solution()\n",
        "s.addTwoNumbers([1,2,3], [4,5,6])"
      ],
      "execution_count": 6,
      "outputs": [
        {
          "output_type": "error",
          "ename": "AttributeError",
          "evalue": "ignored",
          "traceback": [
            "\u001b[0;31m---------------------------------------------------------------------------\u001b[0m",
            "\u001b[0;31mAttributeError\u001b[0m                            Traceback (most recent call last)",
            "\u001b[0;32m<ipython-input-6-bc33e02a3702>\u001b[0m in \u001b[0;36m<module>\u001b[0;34m()\u001b[0m\n\u001b[1;32m     28\u001b[0m \u001b[0;34m\u001b[0m\u001b[0m\n\u001b[1;32m     29\u001b[0m \u001b[0ms\u001b[0m \u001b[0;34m=\u001b[0m \u001b[0mSolution\u001b[0m\u001b[0;34m(\u001b[0m\u001b[0;34m)\u001b[0m\u001b[0;34m\u001b[0m\u001b[0;34m\u001b[0m\u001b[0m\n\u001b[0;32m---> 30\u001b[0;31m \u001b[0ms\u001b[0m\u001b[0;34m.\u001b[0m\u001b[0maddTwoNumbers\u001b[0m\u001b[0;34m(\u001b[0m\u001b[0;34m[\u001b[0m\u001b[0;36m1\u001b[0m\u001b[0;34m,\u001b[0m\u001b[0;36m2\u001b[0m\u001b[0;34m,\u001b[0m\u001b[0;36m3\u001b[0m\u001b[0;34m]\u001b[0m\u001b[0;34m,\u001b[0m \u001b[0;34m[\u001b[0m\u001b[0;36m4\u001b[0m\u001b[0;34m,\u001b[0m\u001b[0;36m5\u001b[0m\u001b[0;34m,\u001b[0m\u001b[0;36m6\u001b[0m\u001b[0;34m]\u001b[0m\u001b[0;34m)\u001b[0m\u001b[0;34m\u001b[0m\u001b[0;34m\u001b[0m\u001b[0m\n\u001b[0m",
            "\u001b[0;32m<ipython-input-6-bc33e02a3702>\u001b[0m in \u001b[0;36maddTwoNumbers\u001b[0;34m(self, l1, l2)\u001b[0m\n\u001b[1;32m     15\u001b[0m         \u001b[0mcarry\u001b[0m\u001b[0;34m=\u001b[0m\u001b[0;36m0\u001b[0m\u001b[0;34m\u001b[0m\u001b[0;34m\u001b[0m\u001b[0m\n\u001b[1;32m     16\u001b[0m         \u001b[0;32mwhile\u001b[0m\u001b[0;34m(\u001b[0m\u001b[0ml1\u001b[0m \u001b[0;32mor\u001b[0m \u001b[0ml2\u001b[0m\u001b[0;34m)\u001b[0m\u001b[0;34m:\u001b[0m\u001b[0;34m\u001b[0m\u001b[0;34m\u001b[0m\u001b[0m\n\u001b[0;32m---> 17\u001b[0;31m             \u001b[0mx\u001b[0m\u001b[0;34m=\u001b[0m \u001b[0ml1\u001b[0m\u001b[0;34m.\u001b[0m\u001b[0mval\u001b[0m \u001b[0;32mif\u001b[0m \u001b[0ml1\u001b[0m \u001b[0;32melse\u001b[0m \u001b[0;36m0\u001b[0m\u001b[0;34m\u001b[0m\u001b[0;34m\u001b[0m\u001b[0m\n\u001b[0m\u001b[1;32m     18\u001b[0m             \u001b[0my\u001b[0m\u001b[0;34m=\u001b[0m \u001b[0ml2\u001b[0m\u001b[0;34m.\u001b[0m\u001b[0mval\u001b[0m \u001b[0;32mif\u001b[0m \u001b[0ml2\u001b[0m \u001b[0;32melse\u001b[0m \u001b[0;36m0\u001b[0m\u001b[0;34m\u001b[0m\u001b[0;34m\u001b[0m\u001b[0m\n\u001b[1;32m     19\u001b[0m             \u001b[0ms\u001b[0m\u001b[0;34m=\u001b[0m\u001b[0mcarry\u001b[0m\u001b[0;34m+\u001b[0m\u001b[0mx\u001b[0m\u001b[0;34m+\u001b[0m\u001b[0my\u001b[0m\u001b[0;34m\u001b[0m\u001b[0;34m\u001b[0m\u001b[0m\n",
            "\u001b[0;31mAttributeError\u001b[0m: 'list' object has no attribute 'val'"
          ]
        }
      ]
    }
  ]
}